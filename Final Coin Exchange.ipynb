{
 "cells": [
  {
   "cell_type": "code",
   "execution_count": 4,
   "id": "77d95325",
   "metadata": {},
   "outputs": [
    {
     "name": "stdout",
     "output_type": "stream",
     "text": [
      "Process interrupted. Exiting...\n"
     ]
    }
   ],
   "source": [
    "import time\n",
    "import gspread\n",
    "from oauth2client.service_account import ServiceAccountCredentials\n",
    "import requests\n",
    "\n",
    "#URLs for each exchange's API - Only these two out of the given APIs are working\n",
    "exchange_urls = {\n",
    "    \"Wazirx\": \"https://api.wazirx.com/api/v2/tickers\",\n",
    "    \"CoinDCX\": \"https://api.coindcx.com/exchange/ticker\",\n",
    "}\n",
    "\n",
    "\n",
    "column_names = [\"Exchange\", \"Base Unit\", \"Quote Unit\", \"Low\", \"High\", \"Last\", \"Volume\", \"Sell\", \"Buy\", \"At\", \"Name\"]\n",
    "\n",
    "\n",
    "def fetch_exchange_data(exchange_name, url):\n",
    "    try:\n",
    "        response = requests.get(url)\n",
    "        response.raise_for_status() \n",
    "        exchange_data = response.json()\n",
    "        return exchange_data\n",
    "    except requests.exceptions.RequestException as e:\n",
    "        print(f\"Failed to fetch data from {exchange_name}: {e}\")\n",
    "        return None\n",
    "\n",
    "\n",
    "scope = ['https://spreadsheets.google.com/feeds', 'https://www.googleapis.com/auth/drive']\n",
    "credentials = ServiceAccountCredentials.from_json_keyfile_name('/Users/pawan/Downloads/creds.json', scope)\n",
    "gc = gspread.authorize(credentials)\n",
    "\n",
    "sheet = gc.open_by_url('https://docs.google.com/spreadsheets/d/1k9vZJsj8vSzxu7r7rQyrcBj-2Cnw5lTNPVgbY59Sr3I/edit?pli=1#gid=0').sheet1\n",
    "\n",
    "\n",
    "def main():\n",
    "    try:\n",
    "        while True:\n",
    "            sheet.clear()\n",
    "            \n",
    "            sheet.append_row(column_names)\n",
    "\n",
    "            row_count = 0\n",
    "\n",
    "            for exchange_name, exchange_url in exchange_urls.items():\n",
    "                exchange_data = fetch_exchange_data(exchange_name, exchange_url)\n",
    "                if exchange_data:\n",
    "                    top_pairs = sorted(exchange_data.values(), key=lambda x: float(x.get('volume', 0)), reverse=True)[:20]\n",
    "                    \n",
    "                    for pair_data in top_pairs:\n",
    "                        row_data = [exchange_name, pair_data.get('base_unit', ''), pair_data.get('quote_unit', ''),\n",
    "                                    pair_data.get('low', ''), pair_data.get('high', ''), pair_data.get('last', ''),\n",
    "                                    pair_data.get('volume', ''), pair_data.get('sell', ''), pair_data.get('buy', ''),\n",
    "                                    pair_data.get('at', ''), pair_data.get('name', '')]\n",
    "                        sheet.append_row(row_data)\n",
    "                        row_count += 1\n",
    "                        \n",
    "                        #Getting Top 20 updated data\n",
    "                        if row_count >= 20:\n",
    "                            break\n",
    "                    if row_count >= 20:\n",
    "                        break\n",
    "            time.sleep(60)\n",
    "    except KeyboardInterrupt:\n",
    "        print(\"Process interrupted. Exiting...\")\n",
    "\n",
    "if __name__ == \"__main__\":\n",
    "    main()\n"
   ]
  },
  {
   "cell_type": "code",
   "execution_count": null,
   "id": "c42993e1",
   "metadata": {},
   "outputs": [],
   "source": []
  }
 ],
 "metadata": {
  "kernelspec": {
   "display_name": "Python 3 (ipykernel)",
   "language": "python",
   "name": "python3"
  },
  "language_info": {
   "codemirror_mode": {
    "name": "ipython",
    "version": 3
   },
   "file_extension": ".py",
   "mimetype": "text/x-python",
   "name": "python",
   "nbconvert_exporter": "python",
   "pygments_lexer": "ipython3",
   "version": "3.10.9"
  }
 },
 "nbformat": 4,
 "nbformat_minor": 5
}
